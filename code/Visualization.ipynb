{
 "cells": [
  {
   "cell_type": "code",
   "execution_count": null,
   "metadata": {},
   "outputs": [],
   "source": [
    "import tensorflow as tf\n",
    "from sklearn.metrics import accuracy_score, precision_score, recall_score, f1_score, roc_auc_score, roc_curve\n",
    "import numpy as np\n",
    "from keras.models import load_model\n",
    "from sklearn.metrics import confusion_matrix\n",
    "from tensorflow.keras.utils import to_categorical\n",
    "import sklearn\n",
    "import matplotlib.pyplot as plt\n",
    "import os\n",
    "import sys\n",
    "X_train, X_test, y_train, y_test = np.load('D:/article/npy/clahe.npy', allow_pickle = True)\n",
    "\n",
    "# Define the TensorFlow model\n",
    "model_path = 'D:/article/result/Dense_clahe_20/model.h5'\n",
    "size_bytes = os.path.getsize(model_path)\n",
    "model = load_model(model_path)\n",
    "model.summary()\n",
    "size_mb = size_bytes / (1024 * 1024)\n",
    "print(f\"Model size: {size_mb:.2f} MB\")\n",
    "y_pred = model.predict(X_test)\n",
    "y_pred_classes = np.argmax(y_pred, axis=1)\n",
    "y_test_classes = np.argmax(y_test, axis=1)"
   ]
  },
  {
   "cell_type": "code",
   "execution_count": null,
   "metadata": {},
   "outputs": [],
   "source": [
    "confusion_mtx =  sklearn.metrics.confusion_matrix(y_test_classes, y_pred_classes, labels=None, sample_weight=None, normalize=None)\n",
    "plt.imshow(confusion_mtx, interpolation='nearest', cmap=plt.cm.Blues)\n",
    "plt.title('Confusion Matrix')\n",
    "plt.colorbar()\n",
    "tick_marks = np.arange(4)\n",
    "plt.xticks(tick_marks, ['first', 'second','third','out of'])\n",
    "plt.yticks(tick_marks, ['first', 'second','third','out of'])\n",
    "plt.xlabel('Predicted Label')\n",
    "plt.ylabel('True Label')\n",
    "plt.show()"
   ]
  },
  {
   "cell_type": "code",
   "execution_count": null,
   "metadata": {},
   "outputs": [],
   "source": [
    "accuracy = accuracy_score(y_test_classes, y_pred_classes)\n",
    "precision = precision_score(y_test_classes, y_pred_classes, average='macro')\n",
    "recall = recall_score(y_test_classes, y_pred_classes, average='macro')\n",
    "f1 = f1_score(y_test_classes, y_pred_classes, average='macro')\n",
    "print('Accuracy: {:.4f}'.format(accuracy))\n",
    "print('Precision: {:.4f}'.format(precision))\n",
    "print('Recall: {:.4f}'.format(recall))\n",
    "print('F1 score: {:.4f}'.format(f1))\n",
    "with open(\"D:/article/result/clahe_cnn_20/performance.txt\", \"w\") as f:\n",
    "    f.write(f\"Accuracy: {round(accuracy, 4)}\\nPrecision: {round(precision, 4)}\\nRecall: {round(recall, 4)}\\nF1_score: {round(f1, 4)}\")"
   ]
  },
  {
   "cell_type": "code",
   "execution_count": null,
   "metadata": {},
   "outputs": [],
   "source": [
    "y_test_cat = to_categorical(y_test_classes, num_classes=4)\n",
    "y_pred_cat = to_categorical(y_pred_classes, num_classes=4)\n",
    "# Calculate ROC AUC score\n",
    "auc = roc_auc_score(y_test_cat, y_pred_cat, multi_class='ovo')\n",
    "\n",
    "# Calculate FPR and TPR values for ROC curve\n",
    "fpr = dict()\n",
    "tpr = dict()\n",
    "roc_auc = dict()\n",
    "for i in range(4):\n",
    "    fpr[i], tpr[i], _ = roc_curve(y_test_cat[:, i], y_pred_cat[:, i])\n",
    "    roc_auc[i] = roc_auc_score(y_test_cat[:, i], y_pred_cat[:, i])\n",
    "# Plot the ROC curve\n",
    "plt.figure()\n",
    "colors = ['aqua', 'darkorange', 'cornflowerblue', 'red']\n",
    "for i, color in zip(range(4), colors):\n",
    "    plt.plot(fpr[i], tpr[i], color=color, lw=2,\n",
    "             label='ROC curve of class {0} (AUC = {1:0.2f})'\n",
    "             ''.format(i+1, roc_auc[i]))\n",
    "plt.plot([0, 1], [0, 1], 'k--', lw=2)\n",
    "plt.xlim([0.0, 1.0])\n",
    "plt.ylim([0.0, 1.05])\n",
    "plt.xlabel('False Positive Rate')\n",
    "plt.ylabel('True Positive Rate')\n",
    "plt.title('ROC Curve')\n",
    "plt.legend(loc=\"lower right\")\n",
    "plt.show()\n",
    "print('AUC: {:.4f}'.format(auc))\n"
   ]
  }
 ],
 "metadata": {
  "kernelspec": {
   "display_name": "Python 3",
   "language": "python",
   "name": "python3"
  },
  "language_info": {
   "codemirror_mode": {
    "name": "ipython",
    "version": 3
   },
   "file_extension": ".py",
   "mimetype": "text/x-python",
   "name": "python",
   "nbconvert_exporter": "python",
   "pygments_lexer": "ipython3",
   "version": "3.7.9"
  },
  "orig_nbformat": 4,
  "vscode": {
   "interpreter": {
    "hash": "543bf8f47dced7de6916b86b506d3b255bdbcb7a585ca014747d3e2a2081a444"
   }
  }
 },
 "nbformat": 4,
 "nbformat_minor": 2
}
