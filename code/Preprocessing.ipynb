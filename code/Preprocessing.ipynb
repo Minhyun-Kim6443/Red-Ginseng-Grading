{
 "cells": [
  {
   "cell_type": "code",
   "execution_count": null,
   "metadata": {},
   "outputs": [],
   "source": [
    "import numpy as np\n",
    "import cv2\n",
    "import matplotlib.pyplot as plt\n",
    "import glob\n",
    "import os"
   ]
  },
  {
   "cell_type": "code",
   "execution_count": null,
   "metadata": {},
   "outputs": [],
   "source": [
    "def find_ginseng(img):\n",
    "    img = cv2.cvtColor(img, cv2.COLOR_BGR2HSV)\n",
    "    h, w = img.shape[:2]\n",
    "    src_gray = img[:,:, 1]\n",
    "    bg = np.zeros((h, w, 3), np.uint8)\n",
    "    ret,th1 = cv2.threshold(src_gray,50 ,255, cv2.THRESH_BINARY)\n",
    "    k = cv2.getStructuringElement(cv2.MORPH_RECT, (5,5))\n",
    "    close = cv2.morphologyEx(th1, cv2.MORPH_CLOSE, k)\n",
    "    contours, _ = cv2.findContours(\n",
    "        close, cv2.RETR_EXTERNAL, cv2.CHAIN_APPROX_NONE)\n",
    "    for i in range(len(contours)):\n",
    "            if cv2.contourArea(contours[i]) > 30000:\n",
    "                cv2.drawContours(bg, contours, i, (120,120,120), 1, cv2.LINE_AA)\n",
    "                cnt = contours[i]\n",
    "                x, y, w, h = cv2.boundingRect(cnt)\n",
    "                cv2.rectangle(bg, (x, y), (x+w, y+h), (0, 255, 0), 3)\n",
    "                cropped_img = img[y:y+h, x:x+w]\n",
    "                cropped_img = cv2.cvtColor(cropped_img, cv2.COLOR_HSV2BGR)\n",
    "    return cropped_img"
   ]
  },
  {
   "cell_type": "code",
   "execution_count": null,
   "metadata": {},
   "outputs": [],
   "source": [
    "def remove_background(img):\n",
    "    img = cv2.cvtColor(img, cv2.COLOR_BGR2HSV)\n",
    "    src_gray = img[:,:, 1]\n",
    "    h, w = img.shape[:2]\n",
    "    bg = np.zeros((h, w, 3), np.uint8)\n",
    "    ret,th1 = cv2.threshold(src_gray,40 ,255, cv2.THRESH_BINARY)\n",
    "    k = cv2.getStructuringElement(cv2.MORPH_RECT, (13,13))\n",
    "    k2 = cv2.getStructuringElement(cv2.MORPH_RECT, (5,5))\n",
    "    close = cv2.morphologyEx(th1, cv2.MORPH_CLOSE, k2)\n",
    "    opening = cv2.morphologyEx(close, cv2.MORPH_OPEN, k)\n",
    "    mask_inv = cv2.bitwise_not(opening)\n",
    "    h, w = img.shape[:2]\n",
    "    img1_bg = cv2.bitwise_and(bg, bg, mask=mask_inv)\n",
    "    img2_fg = cv2.bitwise_and(img, img, mask=opening)\n",
    "    dst = cv2.add(img1_bg, img2_fg)\n",
    "    dst = cv2.cvtColor(dst, cv2.COLOR_HSV2BGR)\n",
    "    return dst, opening"
   ]
  },
  {
   "cell_type": "code",
   "execution_count": null,
   "metadata": {},
   "outputs": [],
   "source": [
    "def remove_noise(img, opening):\n",
    "    img = img\n",
    "    h, w = img.shape[:2]\n",
    "    bg = np.zeros((h, w, 1), np.uint8)\n",
    "    mask_inv = cv2.bitwise_not(opening)\n",
    "    img1_bg = cv2.bitwise_and(bg, bg, mask=mask_inv)\n",
    "    img2_fg = cv2.bitwise_and(img, img, mask=opening)\n",
    "    dst = cv2.add(img1_bg, img2_fg)\n",
    "    return dst"
   ]
  },
  {
   "cell_type": "code",
   "execution_count": null,
   "metadata": {},
   "outputs": [],
   "source": [
    "def make_clahe(img):\n",
    "    img = cv2.cvtColor(img, cv2.COLOR_BGR2LAB)\n",
    "    lab_Lightness, lab_redness, lab_Yellowness = cv2.split(img)\n",
    "    clahe = cv2.createCLAHE(clipLimit=2.0,tileGridSize=(10,10))\n",
    "    Lightness = clahe.apply(lab_Lightness)\n",
    "    Redness = clahe.apply(lab_redness)\n",
    "    Yellowness = clahe.apply(lab_Yellowness)\n",
    "    lab = cv2.merge((Lightness,Redness,Yellowness))\n",
    "    clahe_lab = cv2.cvtColor(lab, cv2.COLOR_LAB2BGR)\n",
    "    return clahe_lab"
   ]
  },
  {
   "cell_type": "code",
   "execution_count": null,
   "metadata": {},
   "outputs": [],
   "source": [
    "def sized_img(img):\n",
    "    img = img\n",
    "    h, w = img.shape[:2]\n",
    "    if h > w:\n",
    "        bg = np.zeros((h,h,3), np.uint8)\n",
    "        x_offset = (h - w) // 2\n",
    "        y_offset = (h - h) // 2\n",
    "        bg[:, x_offset:x_offset+w] = img\n",
    "    else:\n",
    "        bg = np.zeros((w,w,3), np.uint8)\n",
    "        x_offset = (w - w) // 2\n",
    "        y_offset = (w - h) // 2\n",
    "        bg[y_offset:y_offset+h, x_offset:x_offset+w] = img\n",
    "    return bg\n"
   ]
  },
  {
   "cell_type": "code",
   "execution_count": null,
   "metadata": {},
   "outputs": [],
   "source": [
    "def background_size(img):\n",
    "    h, w = img.shape[:2]\n",
    "    if h > w:\n",
    "        bg = np.zeros((h,h), np.uint8)\n",
    "        x_offset = (h - w) // 2\n",
    "        y_offset = (h - h) // 2\n",
    "        bg[:, x_offset:x_offset+w] = img\n",
    "    else:\n",
    "        bg = np.zeros((w,w), np.uint8)\n",
    "        x_offset = (w - w) // 2\n",
    "        y_offset = (w - h) // 2\n",
    "        bg[y_offset:y_offset+h, x_offset:x_offset+w] = img\n",
    "    return bg"
   ]
  },
  {
   "cell_type": "code",
   "execution_count": null,
   "metadata": {},
   "outputs": [],
   "source": [
    "Folder = glob.glob('D:/ginseng/grade/image/original/3/*.jpg')\n",
    "count = 30001\n",
    "for filename in Folder:\n",
    "    img = cv2.imread(f'{filename}', cv2.IMREAD_COLOR)\n",
    "    dst = find_ginseng(img)\n",
    "    dst2, opening = remove_background(dst)\n",
    "    dst3 = sized_img(dst2)\n",
    "    clahe = make_clahe(dst3)\n",
    "    # gray = cv2.cvtColor(clahe, cv2.COLOR_BGR2GRAY)\n",
    "    # blur = cv2.GaussianBlur(dst3, (0,0), 5)\n",
    "    mask_sized = background_size(opening)\n",
    "    # dst4 = remove_noise(gray,mask_sized)\n",
    "    resized = cv2.resize(mask_sized, (224,224), cv2.INTER_AREA)\n",
    "    cv2.imwrite(f'D:/article/image/mask/3/{count}.bmp', resized)\n",
    "    count += 1\n",
    "\n"
   ]
  },
  {
   "cell_type": "code",
   "execution_count": null,
   "metadata": {},
   "outputs": [],
   "source": [
    "img = cv2.imread('D:/ginseng/grade/image/original/1/10003.jpg', cv2.IMREAD_COLOR)\n",
    "dst = find_ginseng(img)\n",
    "dst2, opening = remove_background(dst)\n",
    "dst3 = sized_img(opening)\n",
    "# clahe = make_clahe(dst3)\n",
    "# gray = cv2.cvtColor(clahe, cv2.COLOR_BGR2GRAY)\n",
    "# blur = cv2.GaussianBlur(dst3, (0,0), 3)\n",
    "# resized = cv2.resize(clahe, (224,224))\n",
    "# cv2.imshow('dst', dst3)\n",
    "# cv2.imshow('dst2', resized)\n",
    "# cv2.waitKey()\n",
    "# cv2.destroyAllWindows()"
   ]
  }
 ],
 "metadata": {
  "kernelspec": {
   "display_name": "Python 3.7.7 64-bit",
   "language": "python",
   "name": "python3"
  },
  "language_info": {
   "codemirror_mode": {
    "name": "ipython",
    "version": 3
   },
   "file_extension": ".py",
   "mimetype": "text/x-python",
   "name": "python",
   "nbconvert_exporter": "python",
   "pygments_lexer": "ipython3",
   "version": "3.7.9"
  },
  "orig_nbformat": 4,
  "vscode": {
   "interpreter": {
    "hash": "82d4c6f819cf47785f735f902f00da8643513d08dab4f4c7470bccf934b8d2d6"
   }
  }
 },
 "nbformat": 4,
 "nbformat_minor": 2
}
